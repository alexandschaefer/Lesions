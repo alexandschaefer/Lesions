{
 "cells": [
  {
   "cell_type": "code",
   "execution_count": 2,
   "metadata": {
    "collapsed": false
   },
   "outputs": [],
   "source": [
    "import numpy as np\n",
    "import scipy.stats as stats\n",
    "import pylab as pl\n",
    "import nibabel as nib\n",
    "\n",
    "\n",
    "\n",
    "base_dir=\"/scr/melisse1/data_alex/life_leipzig/chris/compcorred/\"\n",
    "subject_id=[\n",
    "\"LI03378351\"\n",
    "]\n"
   ]
  },
  {
   "cell_type": "code",
   "execution_count": 55,
   "metadata": {
    "collapsed": false
   },
   "outputs": [
    {
     "name": "stdout",
     "output_type": "stream",
     "text": [
      "LI03378351\n",
      "(176, 176)\n"
     ]
    },
    {
     "name": "stderr",
     "output_type": "stream",
     "text": [
      "/home/raid1/aschaefer/.local/lib/python2.7/site-packages/ipython-3.0.0-py2.7.egg/IPython/kernel/__main__.py:13: RuntimeWarning: divide by zero encountered in arctanh\n"
     ]
    }
   ],
   "source": [
    "subject_pl=np.zeros(len(subject_id))\n",
    "### read in data\n",
    "for j in range(0,len(subject_id)):\n",
    "    print subject_id[j]\n",
    "    img = nib.load(base_dir+subject_id[j]+\"/compcorred_file/corr_S7_t2star_epi_2D_standard_30_filtermotart_cleaned_filt.nii.gz\")\n",
    "    img_mask=nib.load(base_dir+subject_id[j]+\"/parcellation_single_subject_space/JHU_MNI_SS_WMPM1_std_trans_flirt.nii.gz\")\n",
    "    mask_data=img_mask.get_data();\n",
    "    data=img.get_data();\n",
    "    A=np.ndarray(shape=(int(mask_data.max()),data.shape[3]));\n",
    "    for i in range(0,int(mask_data.max())): ##loop over seeds\n",
    "        avg_series=np.mean(data[np.where(mask_data==i)],axis=0)\n",
    "        A[i,]=avg_series;\n",
    "    Correlation_Matrix=np.arctanh(np.corrcoef(A))#[np.triu_indices(len(list_1))] ##with symmetry of corr matrix is dealt later\n",
    "    print Correlation_Matrix.shape\n",
    "    #Correlation_Matrix=Correlation_Matrix[np.isfinite(Correlation_Matrix)]\n",
    "    #print Correlation_Matrix.shape\n"
   ]
  },
  {
   "cell_type": "code",
   "execution_count": null,
   "metadata": {
    "collapsed": false
   },
   "outputs": [],
   "source": [
    "\n"
   ]
  },
  {
   "cell_type": "code",
   "execution_count": null,
   "metadata": {
    "collapsed": true
   },
   "outputs": [],
   "source": []
  }
 ],
 "metadata": {
  "kernelspec": {
   "display_name": "Python 2",
   "language": "python",
   "name": "python2"
  },
  "language_info": {
   "codemirror_mode": {
    "name": "ipython",
    "version": 2
   },
   "file_extension": ".py",
   "mimetype": "text/x-python",
   "name": "python",
   "nbconvert_exporter": "python",
   "pygments_lexer": "ipython2",
   "version": "2.7.3"
  }
 },
 "nbformat": 4,
 "nbformat_minor": 0
}
